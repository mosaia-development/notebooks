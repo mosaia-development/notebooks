{
 "cells": [
  {
   "cell_type": "markdown",
   "id": "c5e38602-cd2e-4856-ac07-199d7bef7360",
   "metadata": {},
   "source": [
    "# How to use a team of Mosaia agents locally using AG2 Autogen\n",
    "\n",
    "This Jupyter Notebook outlines the steps for importing a group of agents from Mosaia to be used in a local implementation of AG2 Autogen."
   ]
  },
  {
   "cell_type": "markdown",
   "id": "ec78dda8e3826d8a",
   "metadata": {
    "collapsed": false,
    "jupyter": {
     "outputs_hidden": false
    }
   },
   "source": [
    "## Requirement\n",
    "\n",
    "Requires Python version 3.11 and `autogen`, which can be installed by the following command:"
   ]
  },
  {
   "cell_type": "code",
   "execution_count": null,
   "id": "c4893aa7-22cd-4d59-81bd-efb618b2b933",
   "metadata": {},
   "outputs": [],
   "source": [
    "%pip install autogen \"flaml[automl]\""
   ]
  },
  {
   "cell_type": "markdown",
   "id": "300afc47-1777-4bbb-be52-a44049455524",
   "metadata": {},
   "source": [
    "## Step 1: retrieve the AG2 autogen config json from Mosaia\n",
    "Click the following link https://www.mosaia.ai/user/aaron/team/project-ideation-team?tab=agents in a browser. Click the blue `Export` on the top and then `autogen`. This will download an autogen config json to be used in this notebook. Make sure to have this file in the same directory location as this notebook."
   ]
  },
  {
   "cell_type": "markdown",
   "id": "3269ce65-0e74-4cd3-b763-720db95aa9e8",
   "metadata": {},
   "source": [
    "## Step 2: import the required dependencies from AG2 autogen"
   ]
  },
  {
   "cell_type": "code",
   "execution_count": null,
   "id": "30d793d8-38a3-45b5-9f31-f3c1a61ceb92",
   "metadata": {},
   "outputs": [],
   "source": [
    "import autogen\n",
    "from autogen.agentchat.contrib.agent_builder import AgentBuilder\n",
    "from autogen import (\n",
    "    UserProxyAgent,\n",
    "    GroupChat,\n",
    "    GroupChatManager\n",
    ")"
   ]
  },
  {
   "cell_type": "markdown",
   "id": "ccce862b-da75-435b-9763-662c6f682eb3",
   "metadata": {},
   "source": [
    "## Step 2: prepare configuration and some useful functions\n",
    "Prepare a `config_file_or_env` for assistant agent to limit the choice of LLM you want to use in this task. This config can be a path of json file or a name of environment variable. A `default_llm_config` is also required for initialize the specific config of LLMs like seed, temperature, etc..."
   ]
  },
  {
   "cell_type": "code",
   "execution_count": null,
   "id": "2505f029423b21ab",
   "metadata": {
    "ExecuteTime": {
     "end_time": "2024-06-09T15:07:41.225066900Z",
     "start_time": "2024-06-09T15:07:40.443327100Z"
    },
    "collapsed": false,
    "jupyter": {
     "outputs_hidden": false
    }
   },
   "outputs": [],
   "source": [
    "config_file_or_env = \"OAI_CONFIG_LIST\"\n",
    "llm_config = {\"temperature\": 0}\n",
    "config_list = autogen.config_list_from_json(config_file_or_env, filter_dict={\"model\": [\"gpt-4o-mini\"]})"
   ]
  },
  {
   "cell_type": "markdown",
   "id": "c2d6586c68fa425b",
   "metadata": {
    "collapsed": false,
    "jupyter": {
     "outputs_hidden": false
    }
   },
   "source": [
    "## Step 3: create a AgentBuilder\n",
    "Create a `AgentBuilder` with the specified `config_path_or_env`."
   ]
  },
  {
   "cell_type": "code",
   "execution_count": null,
   "id": "bfa67c771a0fed37",
   "metadata": {
    "ExecuteTime": {
     "end_time": "2024-06-09T15:07:54.256131900Z",
     "start_time": "2024-06-09T15:07:54.236884400Z"
    },
    "collapsed": false,
    "jupyter": {
     "outputs_hidden": false
    }
   },
   "outputs": [],
   "source": [
    "builder = AgentBuilder(config_file_or_env=config_file_or_env)"
   ]
  },
  {
   "cell_type": "markdown",
   "id": "2e6a655fb6618324",
   "metadata": {
    "collapsed": false,
    "jupyter": {
     "outputs_hidden": false
    }
   },
   "source": [
    "## Step 4: create agents using the autogen schema from Mosaia\n",
    "\n",
    "reference the path to the autogen config json file on your local machine in the `builder.load` function"
   ]
  },
  {
   "cell_type": "code",
   "execution_count": null,
   "id": "ee6a6a54-f04a-443f-84e6-c67c8c8b8263",
   "metadata": {},
   "outputs": [],
   "source": [
    "agent_list, agent_configs = builder.load(\n",
    "    \"./project-ideation-team_autogen_export.json\"\n",
    ")"
   ]
  },
  {
   "cell_type": "markdown",
   "id": "5782dd5ecb6c217a",
   "metadata": {
    "collapsed": false,
    "jupyter": {
     "outputs_hidden": false
    }
   },
   "source": [
    "## Step 4: create a group chat task runner\n",
    "Using Autogen's `UserProxyAgent`, `GroupChat` and `GroupChatManager`. Create a task runner for the hydrated team of agents to work on an assigned task given by the `UserProxyAgent`."
   ]
  },
  {
   "cell_type": "code",
   "execution_count": null,
   "id": "0635cd3e-85d7-4f31-9723-8cf0e33867b4",
   "metadata": {},
   "outputs": [],
   "source": [
    "def start_task(execution_task: str, agent_list: list, coding=True):\n",
    "    user_proxy_system_message = \"A human admin proxy for interacting with multi-agent systems\"\n",
    "    user_proxy = UserProxyAgent(\n",
    "        name=\"user\",\n",
    "        code_execution_config={\n",
    "            \"work_dir\": \"coding\",\n",
    "            \"use_docker\": False,\n",
    "        },\n",
    "        system_message=user_proxy_system_message,\n",
    "        is_termination_msg=lambda msg: \"TERMINATE\" in msg[\"content\"],\n",
    "        human_input_mode=\"NEVER\",\n",
    "        default_auto_reply=\"TERMINATE\",\n",
    "        max_consecutive_auto_reply=1\n",
    "    )\n",
    "\n",
    "    agent_list.append(user_proxy)\n",
    "\n",
    "    group_chat = GroupChat(\n",
    "        agents=agent_list,\n",
    "        messages=[],\n",
    "        max_round=12,\n",
    "        allow_repeat_speaker=agent_list[:-1] if coding is True else agent_list,\n",
    "    )\n",
    "    manager = GroupChatManager(\n",
    "        groupchat=group_chat,\n",
    "        llm_config={\"config_list\": config_list, **llm_config},\n",
    "    )\n",
    "    chat_result = user_proxy.initiate_chat(manager, message=execution_task)\n",
    "\n",
    "    return chat_result"
   ]
  },
  {
   "cell_type": "markdown",
   "id": "e00dd99880a4bf7b",
   "metadata": {
    "collapsed": false,
    "jupyter": {
     "outputs_hidden": false
    }
   },
   "source": [
    "## Step 5: execute task\n",
    "Let's run a task with our group of agents using the task runner"
   ]
  },
  {
   "cell_type": "code",
   "execution_count": null,
   "id": "7d52e3d9a1bf91cb",
   "metadata": {
    "ExecuteTime": {
     "end_time": "2024-06-09T15:10:37.719729400Z",
     "start_time": "2024-06-09T15:08:58.365570500Z"
    },
    "collapsed": false,
    "jupyter": {
     "outputs_hidden": false
    },
    "scrolled": true
   },
   "outputs": [],
   "source": [
    "chat_result = start_task(\n",
    "    execution_task=\"Give me some ideas for a viable AI startup\",\n",
    "    agent_list=agent_list,\n",
    ")"
   ]
  },
  {
   "cell_type": "markdown",
   "id": "0d8bfffa-1841-4213-8f01-b19119766ecc",
   "metadata": {},
   "source": [
    "## Step 6: view task results"
   ]
  },
  {
   "cell_type": "code",
   "execution_count": null,
   "id": "133ee477-1122-4055-b61f-caf54d0856fc",
   "metadata": {},
   "outputs": [],
   "source": [
    "chat_result"
   ]
  },
  {
   "cell_type": "markdown",
   "id": "5aabefd0-0f70-42a7-94d4-3b417c4c27d9",
   "metadata": {},
   "source": [
    "## Step 7: clear the agent builder\n",
    "Clear the cache of the agent builder to hydrate a new team of agents"
   ]
  },
  {
   "cell_type": "code",
   "execution_count": null,
   "id": "2a257db2-4596-4b89-a779-97b8129850e6",
   "metadata": {},
   "outputs": [],
   "source": [
    "builder.clear_all_agents()"
   ]
  }
 ],
 "metadata": {
  "kernelspec": {
   "display_name": "Python 3 (ipykernel)",
   "language": "python",
   "name": "python3"
  },
  "language_info": {
   "codemirror_mode": {
    "name": "ipython",
    "version": 3
   },
   "file_extension": ".py",
   "mimetype": "text/x-python",
   "name": "python",
   "nbconvert_exporter": "python",
   "pygments_lexer": "ipython3",
   "version": "3.13.1"
  }
 },
 "nbformat": 4,
 "nbformat_minor": 5
}
